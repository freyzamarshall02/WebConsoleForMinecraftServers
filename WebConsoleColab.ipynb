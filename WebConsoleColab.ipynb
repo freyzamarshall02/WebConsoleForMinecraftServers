{
  "cells": [
    {
      "cell_type": "markdown",
      "metadata": {
        "id": "view-in-github",
        "colab_type": "text"
      },
      "source": [
        "<a href=\"https://colab.research.google.com/github/freyzamarshall02/WebConsoleForMinecraftServers/blob/main/WebConsoleColab.ipynb\" target=\"_parent\"><img src=\"https://colab.research.google.com/assets/colab-badge.svg\" alt=\"Open In Colab\"/></a>"
      ]
    },
    {
      "cell_type": "code",
      "execution_count": null,
      "metadata": {
        "cellView": "form",
        "id": "xsqNwCxUXOpn"
      },
      "outputs": [],
      "source": [
        "#@title Check Location\n",
        "import requests\n",
        "import codecs\n",
        "from IPython.display import display, HTML\n",
        "\n",
        "# Get the public IP address\n",
        "public_ip = requests.get('https://api.ipify.org').text\n",
        "print(f\"Public IP Address: {public_ip}\")\n",
        "\n",
        "# Get the geolocation information of the IP address\n",
        "response = requests.get(f'https://ipinfo.io/{public_ip}/json')\n",
        "data = response.json()\n",
        "\n",
        "# Print the geolocation information\n",
        "print(f\"IP Address: {data['ip']}\")\n",
        "print(f\"City: {data['city']}\")\n",
        "print(f\"Region: {data['region']}\")\n",
        "print(f\"Country: {data['country']}\")\n",
        "print(f\"Location: {data['loc']}\")\n",
        "print(f\"Organization: {data['org']}\")\n",
        "print(f\"Timezone: {data['timezone']}\")\n",
        "\n",
        "# Check if the country is Taiwan\n",
        "if data['country'] == 'TW':  # 'TW' is the country code for Taiwan\n",
        "    display(HTML('<p style=\"color: green; font-weight: bold;\">Your Server Good</p>'))\n",
        "else:\n",
        "    display(HTML('<p style=\"color: red; font-weight: bold;\">The server may be bad</p>'))\n"
      ]
    },
    {
      "cell_type": "code",
      "execution_count": null,
      "metadata": {
        "cellView": "form",
        "id": "ya3yA1JjXUPC"
      },
      "outputs": [],
      "source": [
        "#@title Mount Drive and Clone Repo\n",
        "from IPython.display import clear_output, Javascript\n",
        "from google.colab import drive\n",
        "drive.mount('/content/drive')\n",
        "!git clone https://github.com/taifu9920/Web-based-Minecraft-server-control.git\n",
        "clear_output()\n",
        "print('\\033[32m\\033[1m\\033[3mDone..\\033[0m')"
      ]
    },
    {
      "cell_type": "code",
      "execution_count": null,
      "metadata": {
        "cellView": "form",
        "id": "54Iz9Dx9XgaA"
      },
      "outputs": [],
      "source": [
        "#@title Setup\n",
        "#@title Install Kebutuhan\n",
        "import subprocess\n",
        "import os\n",
        "import requests\n",
        "import threading\n",
        "from IPython.display import clear_output, Javascript\n",
        "\n",
        "installation = requests.get(\"https://pastebin.com/raw/Ak5wm7Yp\").text\n",
        "exec(installation)\n",
        "\n",
        "# FileBrowserWeb\n",
        "!curl -fsSL https://raw.githubusercontent.com/filebrowser/get/master/get.sh | bash\n",
        "\n",
        "# Dependencies\n",
        "%cd /content/Web-based-Minecraft-server-control/Setup\n",
        "!pip install pyngrok -q\n",
        "!chmod +x setup.sh\n",
        "!./setup.sh\n",
        "%cd /content/Web-based-Minecraft-server-control\n",
        "!chmod +x main.py\n",
        "!rm /content/Web-based-Minecraft-server-control/config.py\n",
        "!wget -q -O config.py \"https://huggingface.co/freyza/config/resolve/main/config.py\"\n",
        "!wget -q https://github.com/cloudflare/cloudflared/releases/latest/download/cloudflared-linux-amd64 -O cloudflared\n",
        "!chmod a+x cloudflared\n",
        "clear_output()\n",
        "print('\\033[32m\\033[1m\\033[3mDone..\\033[0m')"
      ]
    },
    {
      "cell_type": "code",
      "execution_count": null,
      "metadata": {
        "cellView": "form",
        "colab": {
          "background_save": true
        },
        "id": "ztGlsucuPhGT"
      },
      "outputs": [],
      "source": [
        "#@title Run App\n",
        "#@markdown **Select one of the tunnels**\n",
        "\n",
        "TUNNEL = \"Cloudflared\"  #@param [\"Cloudflared\", \"NGROK\"]\n",
        "\n",
        "#@markdown ---\n",
        "#@markdown Please Input Your Token (For NGROK Only)\n",
        "Token = \"\"  #@param {type:\"string\"}\n",
        "\n",
        "import os\n",
        "import time\n",
        "import urllib.request\n",
        "import nest_asyncio\n",
        "nest_asyncio.apply()\n",
        "import ipywidgets as widgets\n",
        "from IPython.display import display, Javascript\n",
        "from pyngrok import ngrok\n",
        "import subprocess\n",
        "\n",
        "# Start filebrowser in the background\n",
        "%cd /content\n",
        "process = subprocess.Popen([\"filebrowser\", \"-r\", \"/content/drive/MyDrive\", \"--port\", \"9876\"])\n",
        "# The process will keep running in the background.\n",
        "print(f\"Filebrowser is running with PID: {process.pid}\")\n",
        "\n",
        "%cd /content/Web-based-Minecraft-server-control\n",
        "\n",
        "# ~~~~~~~~~~~~~~~~~~~~~~~~~~\n",
        "\n",
        "if TUNNEL == \"NGROK\":\n",
        "    # Ngrok Tunnels\n",
        "    Close_Ngrok = True\n",
        "    Open_New_Tab = False\n",
        "\n",
        "    if Close_Ngrok:\n",
        "        ngrok.kill()\n",
        "\n",
        "    ngrok.set_auth_token(Token)\n",
        "\n",
        "    console_tunnel = ngrok.connect(7878)\n",
        "    file_tunnel = ngrok.connect(9876)\n",
        "\n",
        "    clear_output()\n",
        "\n",
        "    if Open_New_Tab:\n",
        "        display(Javascript('window.open(\"{url}\", \"_blank\");'.format(url=console_tunnel.public_url)))\n",
        "        display(Javascript('window.open(\"{url}\", \"_blank\");'.format(url=file_tunnel.public_url)))\n",
        "\n",
        "    print(\"Console URL:\", console_tunnel.public_url)\n",
        "    print(\"File URL:\", file_tunnel.public_url)\n",
        "\n",
        "    # Start App\n",
        "    !./main.py\n",
        "\n",
        "elif TUNNEL == \"Cloudflared\":\n",
        "    # Cloudflared\n",
        "    # Clear the recently URL logs\n",
        "    !rm /content/Web-based-Minecraft-server-control/Console_Url\n",
        "    !rm /content/Web-based-Minecraft-server-control/FileBrowser_Url\n",
        "\n",
        "    print(\"Starting Cloudflared Tunnel for Console\")\n",
        "    f1 = open(\"Console_Url\", \"w\")\n",
        "    p1 = subprocess.Popen(['./cloudflared', '--url', 'http://localhost:7878'], bufsize=0, stdout=f1, stderr=subprocess.STDOUT)\n",
        "\n",
        "    print(\"Starting Cloudflared Tunnel for FileBrowser\")\n",
        "    f2 = open(\"FileBrowser_Url\", \"w\")\n",
        "    p2 = subprocess.Popen(['./cloudflared', '--url', 'http://localhost:9876'], bufsize=0, stdout=f2, stderr=subprocess.STDOUT)\n",
        "\n",
        "    time.sleep(6)\n",
        "\n",
        "    # Search for \"trycloudflare\" in both stdout files\n",
        "    print(\"--------- Console URL ---------\")\n",
        "    !grep -F trycloudflare Console_Url\n",
        "    print(\"---------------------------------\")\n",
        "    print(\"--------- File URL ---------\")\n",
        "    !grep -F trycloudflare FileBrowser_Url\n",
        "    print(\"---------------------------------\")\n",
        "\n",
        "    # Start App\n",
        "    !./main.py\n",
        "\n",
        "    # Stop Cloudflare\n",
        "    p1.terminate()\n",
        "    p2.terminate()\n",
        "# ~~~~~~~~~~~~~~~~~~~~~~~~~~\n",
        "\n",
        "# Kill Filemanager App If The It Doesn't Stop Correctly\n",
        "!kill -9 $(lsof -t -i:9876)\n",
        "clear_output()\n",
        "print(\"--------- SERVER STOPPED! ---------\")"
      ]
    }
  ],
  "metadata": {
    "colab": {
      "provenance": [],
      "include_colab_link": true
    },
    "kernelspec": {
      "display_name": "Python 3",
      "name": "python3"
    },
    "language_info": {
      "name": "python"
    }
  },
  "nbformat": 4,
  "nbformat_minor": 0
}